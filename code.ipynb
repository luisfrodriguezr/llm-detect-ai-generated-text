{
 "metadata": {
  "kernelspec": {
   "language": "python",
   "display_name": "Python 3",
   "name": "python3"
  },
  "language_info": {
   "name": "python",
   "version": "3.10.12",
   "mimetype": "text/x-python",
   "codemirror_mode": {
    "name": "ipython",
    "version": 3
   },
   "pygments_lexer": "ipython3",
   "nbconvert_exporter": "python",
   "file_extension": ".py"
  },
  "kaggle": {
   "accelerator": "none",
   "dataSources": [
    {
     "sourceId": 61542,
     "databundleVersionId": 6888007,
     "sourceType": "competition"
    },
    {
     "sourceId": 6977472,
     "sourceType": "datasetVersion",
     "datasetId": 4005256
    }
   ],
   "dockerImageVersionId": 30558,
   "isInternetEnabled": false,
   "language": "python",
   "sourceType": "notebook",
   "isGpuEnabled": false
  }
 },
 "nbformat_minor": 4,
 "nbformat": 4,
 "cells": [
  {
   "cell_type": "code",
   "source": [
    "import sys\n",
    "import gc\n",
    "\n",
    "import pandas as pd\n",
    "from sklearn.model_selection import StratifiedKFold\n",
    "import numpy as np\n",
    "from sklearn.metrics import roc_auc_score\n",
    "import numpy as np\n",
    "\n",
    "from sklearn.feature_extraction.text import TfidfVectorizer\n",
    "\n",
    "from tokenizers import (\n",
    "    decoders,\n",
    "    models,\n",
    "    normalizers,\n",
    "    pre_tokenizers,\n",
    "    processors,\n",
    "    trainers,\n",
    "    Tokenizer,\n",
    ")\n",
    "\n",
    "from datasets import Dataset\n",
    "from tqdm.auto import tqdm\n",
    "from transformers import PreTrainedTokenizerFast\n",
    "\n",
    "from sklearn.linear_model import SGDClassifier\n",
    "from sklearn.naive_bayes import MultinomialNB\n",
    "from sklearn.ensemble import VotingClassifier"
   ],
   "metadata": {
    "execution": {
     "iopub.status.busy": "2024-01-05T19:43:22.416669Z",
     "iopub.execute_input": "2024-01-05T19:43:22.417051Z",
     "iopub.status.idle": "2024-01-05T19:43:27.362089Z",
     "shell.execute_reply.started": "2024-01-05T19:43:22.417019Z",
     "shell.execute_reply": "2024-01-05T19:43:27.360917Z"
    },
    "trusted": true
   },
   "execution_count": 1,
   "outputs": []
  },
  {
   "cell_type": "code",
   "source": [
    "test = pd.read_csv('/kaggle/input/llm-detect-ai-generated-text/test_essays.csv')\n",
    "sub = pd.read_csv('/kaggle/input/llm-detect-ai-generated-text/sample_submission.csv')\n",
    "org_train = pd.read_csv('/kaggle/input/llm-detect-ai-generated-text/train_essays.csv')\n",
    "\n",
    "train = pd.read_csv(\"/kaggle/input/daigt-v2-train-dataset/train_v2_drcat_02.csv\", sep=',')"
   ],
   "metadata": {
    "execution": {
     "iopub.status.busy": "2024-01-05T19:43:27.364591Z",
     "iopub.execute_input": "2024-01-05T19:43:27.365277Z",
     "iopub.status.idle": "2024-01-05T19:43:29.752217Z",
     "shell.execute_reply.started": "2024-01-05T19:43:27.365220Z",
     "shell.execute_reply": "2024-01-05T19:43:29.751062Z"
    },
    "trusted": true
   },
   "execution_count": 2,
   "outputs": []
  },
  {
   "cell_type": "code",
   "source": [
    "train = train.drop_duplicates(subset=['text'])\n",
    "\n",
    "train.reset_index(drop=True, inplace=True)"
   ],
   "metadata": {
    "execution": {
     "iopub.status.busy": "2024-01-05T19:43:29.753535Z",
     "iopub.execute_input": "2024-01-05T19:43:29.753874Z",
     "iopub.status.idle": "2024-01-05T19:43:29.845017Z",
     "shell.execute_reply.started": "2024-01-05T19:43:29.753846Z",
     "shell.execute_reply": "2024-01-05T19:43:29.843815Z"
    },
    "trusted": true
   },
   "execution_count": 3,
   "outputs": []
  },
  {
   "cell_type": "code",
   "source": [
    "test.text.values"
   ],
   "metadata": {
    "execution": {
     "iopub.status.busy": "2024-01-05T19:43:29.846401Z",
     "iopub.execute_input": "2024-01-05T19:43:29.846848Z",
     "iopub.status.idle": "2024-01-05T19:43:29.857180Z",
     "shell.execute_reply.started": "2024-01-05T19:43:29.846796Z",
     "shell.execute_reply": "2024-01-05T19:43:29.856118Z"
    },
    "trusted": true
   },
   "execution_count": 4,
   "outputs": [
    {
     "execution_count": 4,
     "output_type": "execute_result",
     "data": {
      "text/plain": "array(['Aaa bbb ccc.', 'Bbb ccc ddd.', 'CCC ddd eee.'], dtype=object)"
     },
     "metadata": {}
    }
   ]
  },
  {
   "cell_type": "code",
   "source": [
    "LOWERCASE = False\n",
    "VOCAB_SIZE = 30522"
   ],
   "metadata": {
    "execution": {
     "iopub.status.busy": "2024-01-05T19:43:29.861039Z",
     "iopub.execute_input": "2024-01-05T19:43:29.861594Z",
     "iopub.status.idle": "2024-01-05T19:43:29.865999Z",
     "shell.execute_reply.started": "2024-01-05T19:43:29.861557Z",
     "shell.execute_reply": "2024-01-05T19:43:29.865206Z"
    },
    "trusted": true
   },
   "execution_count": 5,
   "outputs": []
  },
  {
   "cell_type": "code",
   "source": [
    "# Creating Byte-Pair Encoding tokenizer\n",
    "raw_tokenizer = Tokenizer(models.BPE(unk_token=\"[UNK]\"))\n",
    "\n",
    "# Adding normalization and pre_tokenizer\n",
    "raw_tokenizer.normalizer = normalizers.Sequence([normalizers.NFC()] + [normalizers.Lowercase()] if LOWERCASE else [])\n",
    "raw_tokenizer.pre_tokenizer = pre_tokenizers.ByteLevel()\n",
    "\n",
    "# Adding special tokens and creating trainer instance\n",
    "special_tokens = [\"[UNK]\", \"[PAD]\", \"[CLS]\", \"[SEP]\", \"[MASK]\"]\n",
    "trainer = trainers.BpeTrainer(vocab_size=VOCAB_SIZE, special_tokens=special_tokens)\n",
    "\n",
    "# Creating huggingface dataset object\n",
    "dataset = Dataset.from_pandas(test[['text']])\n",
    "\n",
    "def train_corp_iter():\n",
    "    \"\"\"\n",
    "    A generator function for iterating over a dataset in chunks.\n",
    "    \"\"\"    \n",
    "    for i in range(0, len(dataset), 1000):\n",
    "        yield dataset[i : i + 1000][\"text\"]\n",
    "\n",
    "# Training from iterator REMEMBER it's training on test set...\n",
    "raw_tokenizer.train_from_iterator(train_corp_iter(), trainer=trainer)\n",
    "\n",
    "tokenizer = PreTrainedTokenizerFast(\n",
    "    tokenizer_object=raw_tokenizer,\n",
    "    unk_token=\"[UNK]\",\n",
    "    pad_token=\"[PAD]\",\n",
    "    cls_token=\"[CLS]\",\n",
    "    sep_token=\"[SEP]\",\n",
    "    mask_token=\"[MASK]\",\n",
    ")\n",
    "\n",
    "tokenized_texts_test = []\n",
    "\n",
    "# Tokenize test set with new tokenizer\n",
    "for text in tqdm(test['text'].tolist()):\n",
    "    tokenized_texts_test.append(tokenizer.tokenize(text))\n",
    "\n",
    "# Tokenize train set\n",
    "tokenized_texts_train = []\n",
    "\n",
    "for text in tqdm(train['text'].tolist()):\n",
    "    tokenized_texts_train.append(tokenizer.tokenize(text))"
   ],
   "metadata": {
    "execution": {
     "iopub.status.busy": "2024-01-05T19:43:29.867184Z",
     "iopub.execute_input": "2024-01-05T19:43:29.867987Z",
     "iopub.status.idle": "2024-01-05T19:44:58.659873Z",
     "shell.execute_reply.started": "2024-01-05T19:43:29.867954Z",
     "shell.execute_reply": "2024-01-05T19:44:58.658624Z"
    },
    "trusted": true
   },
   "execution_count": 6,
   "outputs": [
    {
     "name": "stdout",
     "text": "\n\n\n",
     "output_type": "stream"
    },
    {
     "output_type": "display_data",
     "data": {
      "text/plain": "  0%|          | 0/3 [00:00<?, ?it/s]",
      "application/vnd.jupyter.widget-view+json": {
       "version_major": 2,
       "version_minor": 0,
       "model_id": "dbeb38fdc5d34d1e9d380ba5763f1799"
      }
     },
     "metadata": {}
    },
    {
     "output_type": "display_data",
     "data": {
      "text/plain": "  0%|          | 0/44868 [00:00<?, ?it/s]",
      "application/vnd.jupyter.widget-view+json": {
       "version_major": 2,
       "version_minor": 0,
       "model_id": "5da0677e199c43c1adee579681d5ca5b"
      }
     },
     "metadata": {}
    }
   ]
  },
  {
   "cell_type": "code",
   "source": [
    "tokenized_texts_test[1]"
   ],
   "metadata": {
    "execution": {
     "iopub.status.busy": "2024-01-05T19:44:58.661222Z",
     "iopub.execute_input": "2024-01-05T19:44:58.661572Z",
     "iopub.status.idle": "2024-01-05T19:44:58.668975Z",
     "shell.execute_reply.started": "2024-01-05T19:44:58.661542Z",
     "shell.execute_reply": "2024-01-05T19:44:58.667898Z"
    },
    "trusted": true
   },
   "execution_count": 7,
   "outputs": [
    {
     "execution_count": 7,
     "output_type": "execute_result",
     "data": {
      "text/plain": "['ĠB', 'b', 'b', 'Ġc', 'cc', 'Ġd', 'dd', '.']"
     },
     "metadata": {}
    }
   ]
  },
  {
   "cell_type": "code",
   "source": [
    "def dummy(text):\n",
    "    \"\"\"\n",
    "    A dummy function to use as tokenizer for TfidfVectorizer. It returns the text as it is since we already tokenized it.\n",
    "    \"\"\"\n",
    "    return text"
   ],
   "metadata": {
    "execution": {
     "iopub.status.busy": "2024-01-05T19:44:58.670292Z",
     "iopub.execute_input": "2024-01-05T19:44:58.670617Z",
     "iopub.status.idle": "2024-01-05T19:44:58.687371Z",
     "shell.execute_reply.started": "2024-01-05T19:44:58.670582Z",
     "shell.execute_reply": "2024-01-05T19:44:58.686110Z"
    },
    "trusted": true
   },
   "execution_count": 8,
   "outputs": []
  },
  {
   "cell_type": "code",
   "source": [
    "# Fitting TfidfVectoizer on test set\n",
    "\n",
    "vectorizer = TfidfVectorizer(ngram_range=(3, 5), lowercase=False, sublinear_tf=True, analyzer = 'word',\n",
    "    tokenizer = dummy,\n",
    "    preprocessor = dummy,\n",
    "    token_pattern = None, strip_accents='unicode'\n",
    "                            )\n",
    "\n",
    "vectorizer.fit(tokenized_texts_test)\n",
    "\n",
    "# Getting vocab\n",
    "vocab = vectorizer.vocabulary_\n",
    "\n",
    "print(vocab)\n",
    "\n",
    "# Here we fit our vectorizer on train set but this time we use vocabulary from test fit.\n",
    "vectorizer = TfidfVectorizer(ngram_range=(3, 5), lowercase=False, sublinear_tf=True, vocabulary=vocab,\n",
    "                            analyzer = 'word',\n",
    "                            tokenizer = dummy,\n",
    "                            preprocessor = dummy,\n",
    "                            token_pattern = None, strip_accents='unicode'\n",
    "                            )\n",
    "\n",
    "tf_train = vectorizer.fit_transform(tokenized_texts_train)\n",
    "tf_test = vectorizer.transform(tokenized_texts_test)\n",
    "\n",
    "del vectorizer\n",
    "gc.collect()"
   ],
   "metadata": {
    "execution": {
     "iopub.status.busy": "2024-01-05T19:44:58.689058Z",
     "iopub.execute_input": "2024-01-05T19:44:58.689377Z",
     "iopub.status.idle": "2024-01-05T19:45:50.391231Z",
     "shell.execute_reply.started": "2024-01-05T19:44:58.689350Z",
     "shell.execute_reply": "2024-01-05T19:45:50.389923Z"
    },
    "trusted": true
   },
   "execution_count": 9,
   "outputs": [
    {
     "name": "stdout",
     "text": "{'ĠA aa Ġb': 21, 'aa Ġb b': 6, 'Ġb b b': 30, 'b b Ġc': 9, 'b Ġc cc': 13, 'Ġc cc .': 33, 'ĠA aa Ġb b': 22, 'aa Ġb b b': 7, 'Ġb b b Ġc': 31, 'b b Ġc cc': 10, 'b Ġc cc .': 14, 'ĠA aa Ġb b b': 23, 'aa Ġb b b Ġc': 8, 'Ġb b b Ġc cc': 32, 'b b Ġc cc .': 11, 'ĠB b b': 24, 'Ġc cc Ġd': 34, 'cc Ġd dd': 17, 'Ġd dd .': 37, 'ĠB b b Ġc': 25, 'b Ġc cc Ġd': 15, 'Ġc cc Ġd dd': 35, 'cc Ġd dd .': 18, 'ĠB b b Ġc cc': 26, 'b b Ġc cc Ġd': 12, 'b Ġc cc Ġd dd': 16, 'Ġc cc Ġd dd .': 36, 'ĠC C C': 27, 'C C Ġd': 0, 'C Ġd dd': 3, 'Ġd dd Ġe': 38, 'dd Ġe ee': 19, 'Ġe ee .': 41, 'ĠC C C Ġd': 28, 'C C Ġd dd': 1, 'C Ġd dd Ġe': 4, 'Ġd dd Ġe ee': 39, 'dd Ġe ee .': 20, 'ĠC C C Ġd dd': 29, 'C C Ġd dd Ġe': 2, 'C Ġd dd Ġe ee': 5, 'Ġd dd Ġe ee .': 40}\n",
     "output_type": "stream"
    },
    {
     "execution_count": 9,
     "output_type": "execute_result",
     "data": {
      "text/plain": "23"
     },
     "metadata": {}
    }
   ]
  },
  {
   "cell_type": "code",
   "source": [
    "y_train = train['label'].values"
   ],
   "metadata": {
    "execution": {
     "iopub.status.busy": "2024-01-05T19:45:50.392761Z",
     "iopub.execute_input": "2024-01-05T19:45:50.393411Z",
     "iopub.status.idle": "2024-01-05T19:45:50.399655Z",
     "shell.execute_reply.started": "2024-01-05T19:45:50.393369Z",
     "shell.execute_reply": "2024-01-05T19:45:50.398262Z"
    },
    "trusted": true
   },
   "execution_count": 10,
   "outputs": []
  },
  {
   "cell_type": "markdown",
   "source": [
    "Just some sanity checks..."
   ],
   "metadata": {}
  },
  {
   "cell_type": "code",
   "source": [
    "tf_train"
   ],
   "metadata": {
    "execution": {
     "iopub.status.busy": "2024-01-05T19:45:50.401136Z",
     "iopub.execute_input": "2024-01-05T19:45:50.401546Z",
     "iopub.status.idle": "2024-01-05T19:45:50.415270Z",
     "shell.execute_reply.started": "2024-01-05T19:45:50.401507Z",
     "shell.execute_reply": "2024-01-05T19:45:50.413871Z"
    },
    "trusted": true
   },
   "execution_count": 11,
   "outputs": [
    {
     "execution_count": 11,
     "output_type": "execute_result",
     "data": {
      "text/plain": "<44868x42 sparse matrix of type '<class 'numpy.float64'>'\n\twith 0 stored elements in Compressed Sparse Row format>"
     },
     "metadata": {}
    }
   ]
  },
  {
   "cell_type": "code",
   "source": [
    "tf_train.shape"
   ],
   "metadata": {
    "execution": {
     "iopub.status.busy": "2024-01-05T19:45:50.416651Z",
     "iopub.execute_input": "2024-01-05T19:45:50.417085Z",
     "iopub.status.idle": "2024-01-05T19:45:50.425408Z",
     "shell.execute_reply.started": "2024-01-05T19:45:50.417046Z",
     "shell.execute_reply": "2024-01-05T19:45:50.424198Z"
    },
    "trusted": true
   },
   "execution_count": 12,
   "outputs": [
    {
     "execution_count": 12,
     "output_type": "execute_result",
     "data": {
      "text/plain": "(44868, 42)"
     },
     "metadata": {}
    }
   ]
  },
  {
   "cell_type": "code",
   "source": [
    "tf_test.shape"
   ],
   "metadata": {
    "execution": {
     "iopub.status.busy": "2024-01-05T19:45:50.426947Z",
     "iopub.execute_input": "2024-01-05T19:45:50.427800Z",
     "iopub.status.idle": "2024-01-05T19:45:50.436800Z",
     "shell.execute_reply.started": "2024-01-05T19:45:50.427758Z",
     "shell.execute_reply": "2024-01-05T19:45:50.435604Z"
    },
    "trusted": true
   },
   "execution_count": 13,
   "outputs": [
    {
     "execution_count": 13,
     "output_type": "execute_result",
     "data": {
      "text/plain": "(3, 42)"
     },
     "metadata": {}
    }
   ]
  },
  {
   "cell_type": "markdown",
   "source": [
    "### A basic classifier pipeline with minimal tweaks from public notebooks."
   ],
   "metadata": {}
  },
  {
   "cell_type": "code",
   "source": [
    "bayes_model = MultinomialNB(alpha=0.02)\n",
    "sgd_model = SGDClassifier(max_iter=8000, tol=1e-4, loss=\"modified_huber\")\n",
    "\n",
    "\n",
    "ensemble = VotingClassifier(estimators=[('sgd', sgd_model), ('nb', bayes_model)],\n",
    "                            weights=[0.7, 0.3], voting='soft', n_jobs=-1)\n",
    "ensemble.fit(tf_train, y_train)\n",
    "\n",
    "\n",
    "gc.collect()"
   ],
   "metadata": {
    "execution": {
     "iopub.status.busy": "2024-01-05T19:45:50.441404Z",
     "iopub.execute_input": "2024-01-05T19:45:50.442066Z",
     "iopub.status.idle": "2024-01-05T19:45:52.689711Z",
     "shell.execute_reply.started": "2024-01-05T19:45:50.442024Z",
     "shell.execute_reply": "2024-01-05T19:45:52.687337Z"
    },
    "trusted": true
   },
   "execution_count": 14,
   "outputs": [
    {
     "name": "stdout",
     "text": "huggingface/tokenizers: The current process just got forked, after parallelism has already been used. Disabling parallelism to avoid deadlocks...\nTo disable this warning, you can either:\n\t- Avoid using `tokenizers` before the fork if possible\n\t- Explicitly set the environment variable TOKENIZERS_PARALLELISM=(true | false)\nhuggingface/tokenizers: The current process just got forked, after parallelism has already been used. Disabling parallelism to avoid deadlocks...\nTo disable this warning, you can either:\n\t- Avoid using `tokenizers` before the fork if possible\n\t- Explicitly set the environment variable TOKENIZERS_PARALLELISM=(true | false)\nhuggingface/tokenizers: The current process just got forked, after parallelism has already been used. Disabling parallelism to avoid deadlocks...\nTo disable this warning, you can either:\n\t- Avoid using `tokenizers` before the fork if possible\n\t- Explicitly set the environment variable TOKENIZERS_PARALLELISM=(true | false)\nhuggingface/tokenizers: The current process just got forked, after parallelism has already been used. Disabling parallelism to avoid deadlocks...\nTo disable this warning, you can either:\n\t- Avoid using `tokenizers` before the fork if possible\n\t- Explicitly set the environment variable TOKENIZERS_PARALLELISM=(true | false)\nhuggingface/tokenizers: The current process just got forked, after parallelism has already been used. Disabling parallelism to avoid deadlocks...\nTo disable this warning, you can either:\n\t- Avoid using `tokenizers` before the fork if possible\n\t- Explicitly set the environment variable TOKENIZERS_PARALLELISM=(true | false)\n",
     "output_type": "stream"
    },
    {
     "execution_count": 14,
     "output_type": "execute_result",
     "data": {
      "text/plain": "31"
     },
     "metadata": {}
    }
   ]
  },
  {
   "cell_type": "code",
   "source": [
    "final_preds = ensemble.predict_proba(tf_test)[:,1]"
   ],
   "metadata": {
    "execution": {
     "iopub.status.busy": "2024-01-05T19:45:52.691287Z",
     "iopub.execute_input": "2024-01-05T19:45:52.691607Z",
     "iopub.status.idle": "2024-01-05T19:45:52.698415Z",
     "shell.execute_reply.started": "2024-01-05T19:45:52.691581Z",
     "shell.execute_reply": "2024-01-05T19:45:52.697099Z"
    },
    "trusted": true
   },
   "execution_count": 15,
   "outputs": []
  },
  {
   "cell_type": "code",
   "source": [
    "sub['generated'] = final_preds\n",
    "sub.to_csv('submission.csv', index=False)\n",
    "sub"
   ],
   "metadata": {
    "execution": {
     "iopub.status.busy": "2024-01-05T19:47:23.507699Z",
     "iopub.execute_input": "2024-01-05T19:47:23.508118Z",
     "iopub.status.idle": "2024-01-05T19:47:23.526378Z",
     "shell.execute_reply.started": "2024-01-05T19:47:23.508085Z",
     "shell.execute_reply": "2024-01-05T19:47:23.525331Z"
    },
    "trusted": true
   },
   "execution_count": 16,
   "outputs": [
    {
     "execution_count": 16,
     "output_type": "execute_result",
     "data": {
      "text/plain": "         id  generated\n0  0000aaaa   0.390007\n1  1111bbbb   0.390007\n2  2222cccc   0.390007",
      "text/html": "<div>\n<style scoped>\n    .dataframe tbody tr th:only-of-type {\n        vertical-align: middle;\n    }\n\n    .dataframe tbody tr th {\n        vertical-align: top;\n    }\n\n    .dataframe thead th {\n        text-align: right;\n    }\n</style>\n<table border=\"1\" class=\"dataframe\">\n  <thead>\n    <tr style=\"text-align: right;\">\n      <th></th>\n      <th>id</th>\n      <th>generated</th>\n    </tr>\n  </thead>\n  <tbody>\n    <tr>\n      <th>0</th>\n      <td>0000aaaa</td>\n      <td>0.390007</td>\n    </tr>\n    <tr>\n      <th>1</th>\n      <td>1111bbbb</td>\n      <td>0.390007</td>\n    </tr>\n    <tr>\n      <th>2</th>\n      <td>2222cccc</td>\n      <td>0.390007</td>\n    </tr>\n  </tbody>\n</table>\n</div>"
     },
     "metadata": {}
    }
   ]
  }
 ]
}
